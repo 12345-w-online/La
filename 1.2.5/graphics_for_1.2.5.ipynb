{
 "cells": [
  {
   "cell_type": "code",
   "execution_count": 3,
   "metadata": {
    "notebookRunGroups": {
     "groupValue": "1"
    }
   },
   "outputs": [],
   "source": [
    "%load_ext pycodestyle_magic"
   ]
  },
  {
   "cell_type": "code",
   "execution_count": 4,
   "metadata": {
    "notebookRunGroups": {
     "groupValue": "1"
    }
   },
   "outputs": [],
   "source": [
    "%pycodestyle_on"
   ]
  },
  {
   "cell_type": "code",
   "execution_count": 5,
   "metadata": {
    "notebookRunGroups": {
     "groupValue": "1"
    }
   },
   "outputs": [],
   "source": [
    "# all imports\n",
    "import numpy as np\n",
    "import pandas as pd\n",
    "import matplotlib.pyplot as plt\n",
    "import math"
   ]
  },
  {
   "cell_type": "code",
   "execution_count": 6,
   "metadata": {
    "notebookRunGroups": {
     "groupValue": "1"
    }
   },
   "outputs": [
    {
     "name": "stderr",
     "output_type": "stream",
     "text": [
      "11:80: E501 line too long (83 > 79 characters)\n"
     ]
    }
   ],
   "source": [
    "def my_int(value):  # преобразование чисел с запятой в числа с точкой\n",
    "\n",
    "    if isinstance(value, list):\n",
    "        value = value[0]\n",
    "\n",
    "    if len(value) == 1:\n",
    "        return float(value)\n",
    "    else:\n",
    "        value = list(map(str, value.split(',')))\n",
    "        if len(value) == 2:\n",
    "            return float(value[0]) + (float(value[1]) / (10 ** len(str(value[1]))))\n",
    "        else:\n",
    "            return float(value[0])"
   ]
  },
  {
   "cell_type": "code",
   "execution_count": 21,
   "metadata": {
    "notebookRunGroups": {
     "groupValue": "1"
    }
   },
   "outputs": [
    {
     "name": "stderr",
     "output_type": "stream",
     "text": [
      "1:80: E501 line too long (102 > 79 characters)\n",
      "15:80: E501 line too long (101 > 79 characters)\n"
     ]
    }
   ],
   "source": [
    "def mnk(data_x, data_y, g=0):   # метод наименьших квадратов с расчетом погрешностей для коэффициентов\n",
    "    '''\n",
    "    \"from seminar\"\n",
    "    #Взято с:\n",
    "    #https://npm.mipt.ru/books/lab-intro/main.pdf\n",
    "    '''\n",
    "\n",
    "    # s = np.array([[int(s1[i]), int(s1[i + 1])]for i in range(0, len(s1), 2)])\n",
    "    s = np.array([[data_x[i], data_y[i]] for i in range(len(data_x))])\n",
    "    sum_x = np.sum([i[0] for i in s])\n",
    "    sum_y = np.sum([i[1] for i in s])\n",
    "    sum_xy = np.sum([i[0] * i[1] for i in s])\n",
    "    sum_xx = np.sum([i[0] * i[0] for i in s])\n",
    "\n",
    "    a = ((len(s) * sum_xy) - (sum_x * sum_y)) / ((len(s) * sum_xx) - sum_x ** 2)  # коэфициэент при x\n",
    "    b = (sum_y - (a * sum_x)) / len(s)  # свободный член\n",
    "\n",
    "    y_mean = np.mean(sum_y)\n",
    "    x_mean = np.mean(sum_x)\n",
    "    D_yy = np.mean((data_y - y_mean) ** 2)\n",
    "    D_xx = np.mean((data_x - x_mean) ** 2)\n",
    "    # print(D_xx, D_yy, a)\n",
    "\n",
    "    if g == 1:\n",
    "        # погрешности для коэфициэнтов прямой построенной\n",
    "        ga = ((1 / (len(s) - 2)) * (np.abs((D_yy / D_xx) - (a ** 2)))) ** (1/2)\n",
    "        gb = ga * ((np.mean(data_x ** 2)) ** (1 / 2))  # с помощью МНК\n",
    "        # print(ga, gb)\n",
    "        return a, b, ga, gb\n",
    "    else:\n",
    "        return a, b, 0, 0"
   ]
  },
  {
   "cell_type": "code",
   "execution_count": 8,
   "metadata": {
    "notebookRunGroups": {
     "groupValue": "1"
    }
   },
   "outputs": [],
   "source": [
    "def isnan(value):  # проверка на nan\n",
    "    try:\n",
    "        return math.isnan(float(value))\n",
    "    except ValueError:  # maybe need TypeError\n",
    "        return False"
   ]
  },
  {
   "cell_type": "code",
   "execution_count": 9,
   "metadata": {
    "notebookRunGroups": {
     "groupValue": "1"
    }
   },
   "outputs": [],
   "source": [
    "def delet_nan(data, line=1):  # убирание из списка nan элементов\n",
    "    '''\n",
    "    при line=0 возращфет список списков разграниченных элементом nan,\n",
    "    иначе просто удаляет nan\n",
    "    '''\n",
    "\n",
    "    s = []\n",
    "    new_data = []\n",
    "\n",
    "    if line == 0:\n",
    "        for i in data:\n",
    "            if not isnan(i):\n",
    "                s.append(i)\n",
    "            else:\n",
    "                if len(s) != 0:\n",
    "                    new_data.append(s)\n",
    "                    s = []\n",
    "                else:\n",
    "                    s = []\n",
    "        return new_data\n",
    "\n",
    "    else:\n",
    "        for i in data:\n",
    "            if not isnan(i):\n",
    "                new_data.append(i)\n",
    "        return np.array(new_data)"
   ]
  },
  {
   "cell_type": "code",
   "execution_count": 10,
   "metadata": {
    "notebookRunGroups": {
     "groupValue": "1"
    }
   },
   "outputs": [],
   "source": [
    "def my_std(data):  # std(s) / sqrt(len(s))\n",
    "    return np.std(data) / (len(data) ** (1 / 2))"
   ]
  },
  {
   "cell_type": "code",
   "execution_count": 23,
   "metadata": {},
   "outputs": [
    {
     "name": "stderr",
     "output_type": "stream",
     "text": [
      "3:80: E501 line too long (105 > 79 characters)\n",
      "3:85: E261 at least two spaces before inline comment\n",
      "11:80: E501 line too long (105 > 79 characters)\n",
      "20:76: W291 trailing whitespace\n"
     ]
    },
    {
     "name": "stdout",
     "output_type": "stream",
     "text": [
      "[0.25128    0.16752    0.13461429 0.10925217 0.08664828 0.\n",
      " 0.         0.         0.         0.         0.         0.\n",
      " 0.         0.         0.        ]\n",
      "[0.3355 0.2691 0.2134 0.1738 0.138  0.     0.     0.     0.     0.\n",
      " 0.     0.     0.     0.     0.    ]\n",
      "[0.0008376  0.0005584  0.00048077 0.00047501 0.00029879]\n",
      "[0.0002 0.0002 0.0002 0.0002 0.0002]\n"
     ]
    }
   ],
   "source": [
    "# вытаскивание даты из таблиц\n",
    "\n",
    "df = pd.read_csv(r\"C:\\Users\\12345\\PythonProjects\\Labs\\1.2.5\\Лаба 1.2.5 - Лист1.csv\")# путь до csv таблицы\n",
    "# print(df.columns)# все колонки таблицы\n",
    "\n",
    "data_y = df[\"угловая скорость (рад/с)\"]  # считывание даты из колонки\n",
    "data_y = delet_nan(data_y)\n",
    "data_y = np.array([my_int(i) for i in data_y])\n",
    "data_y = np.append(data_y, [0] * 10)\n",
    "print(data_y)\n",
    "# data = [list(map(my_int, i.split('+-'))) for i in data]# разделение строки с значениями на int элементы\n",
    "\n",
    "data_x = df['массы, г']  # считывание даты из колонки\n",
    "data_x = delet_nan(data_x)\n",
    "data_x = np.array([my_int(i) for i in data_x[:5]])\n",
    "data_x = np.append(data_x, [0] * 10)\n",
    "data_x = data_x / 1000\n",
    "print(data_x)\n",
    "\n",
    "data_for_errorbar_y = delet_nan(df['погрешности (рад/с)'])  # возращает все \n",
    "data_for_errorbar_y = np.array([my_int(i) for i in data_for_errorbar_y])\n",
    "print(data_for_errorbar_y)\n",
    "\n",
    "\n",
    "data_for_errorbar_x = delet_nan(df['погрешность г'])\n",
    "data_for_errorbar_x = np.array([my_int(i) for i in data_for_errorbar_x[:5]])\n",
    "data_for_errorbar_x = data_for_errorbar_x / 1000\n",
    "print(data_for_errorbar_x)"
   ]
  },
  {
   "cell_type": "code",
   "execution_count": 11,
   "metadata": {
    "notebookRunGroups": {
     "groupValue": "1"
    }
   },
   "outputs": [
    {
     "name": "stderr",
     "output_type": "stream",
     "text": [
      "1:80: E501 line too long (82 > 79 characters)\n"
     ]
    }
   ],
   "source": [
    "class MyCustomValueError(Exception):  # In messege need to input place or function\n",
    "    def __init__(self, *args):\n",
    "        if args:\n",
    "            self.messege = args[0]\n",
    "        else:\n",
    "            self.messege = None\n",
    "\n",
    "    def __str__(self):\n",
    "        if self.messege:\n",
    "            return \"MyCustomValueError from function {0}\".format(self.messege)\n",
    "        else:\n",
    "            return \"Where is not right input of values\""
   ]
  },
  {
   "cell_type": "code",
   "execution_count": 12,
   "metadata": {
    "notebookRunGroups": {
     "groupValue": "1"
    }
   },
   "outputs": [
    {
     "name": "stderr",
     "output_type": "stream",
     "text": [
      "1:80: E501 line too long (108 > 79 characters)\n"
     ]
    }
   ],
   "source": [
    "def my_deviation_for_formuls(data, number_of_digits=4):  # [deviation, value, degree] it id structre of list\n",
    "    if len(data) % 3 != 0:\n",
    "        raise MyCustomValueError(\"my_deviation_for_formuls\")\n",
    "\n",
    "    deviation = 0\n",
    "    for i in range(int(len(data)/3)):\n",
    "        deviation += (data[i * 3 + 2] * (data[i * 3] / data[i * 3 + 1])) ** 2\n",
    "        # print(deviation)\n",
    "    deviation = deviation ** (1 / 2)\n",
    "\n",
    "    return round(deviation, number_of_digits)"
   ]
  },
  {
   "cell_type": "code",
   "execution_count": 13,
   "metadata": {
    "notebookRunGroups": {
     "groupValue": "1"
    }
   },
   "outputs": [],
   "source": [
    "# Константы\n",
    "g = 9.81"
   ]
  },
  {
   "cell_type": "code",
   "execution_count": 25,
   "metadata": {},
   "outputs": [
    {
     "name": "stdout",
     "output_type": "stream",
     "text": [
      "[128.82032986 141.30493695 133.19402609 136.16734421 132.41128734]\n",
      "[0.0182, 0.0167, 0.0179, 0.0176, 0.0178]\n",
      "134.37958488899912\n",
      "0.008524273585817827\n",
      "[2.34453    2.35979245 2.38417307 2.39654526 2.35692091]\n",
      "крутильный маятник\n",
      "[101.4880171   83.89406792 101.50810976  90.7954474   99.54800258]\n",
      "[0.0222, 0.027, 0.0222, 0.0244, 0.0227]\n",
      "[2.25303398 2.26513983 2.25348004 2.21540892 2.25973966]\n",
      "95.44672895174017\n",
      "0.007848284837016868\n"
     ]
    }
   ],
   "source": [
    "data_balistic_x0 = np.array([-2, -3.4, -4.2, -5.4, -6.5])\n",
    "data_balistic_x = np.array([9, 8.6, 7, 6, 4.8])\n",
    "data_tors = np.array([4.5, 3.7, 4.5, 4.1, 4.4])\n",
    "\n",
    "data_balistic = data_balistic_x - data_balistic_x0\n",
    "data_balistic = data_balistic * (10 ** -3)\n",
    "\n",
    "\n",
    "L = 2.34\n",
    "M = 2925\n",
    "m = data_y\n",
    "u_balistic = M * (g / L) ** (0.5) * data_balistic / m[:5]\n",
    "print(u_balistic)\n",
    "deviation_for_u = []\n",
    "for i in range(len(u_balistic)):\n",
    "    deviation_for_u.append(my_deviation_for_formuls([4, 2925, 1, 0.1, 234, 0.5, 0.2 * (10 ** -3), data_balistic[i], 1, 0.0001, m[i], 1]))\n",
    "print(deviation_for_u)\n",
    "print(np.mean(u_balistic))\n",
    "print(my_std(u_balistic * deviation_for_u))\n",
    "print(u_balistic * deviation_for_u)\n",
    "\n",
    "print(\"крутильный маятник\")\n",
    "r = 22\n",
    "d = 139\n",
    "u_tors = data_tors / d / r / m[5:] * 0.34842 * 10 ** 5\n",
    "print(u_tors)\n",
    "deviation_for_u = []\n",
    "for i in range(len(u_tors)):\n",
    "    deviation_for_u.append(my_deviation_for_formuls([0.0095, 100, 1, 0.1, data_tors[i], 1, 0.0001, m[i+5], 1]))\n",
    "print(deviation_for_u)\n",
    "print(deviation_for_u * u_tors)\n",
    "print(np.mean(u_tors))\n",
    "print(my_std(u_tors * deviation_for_u))\n",
    "\n",
    "# print(round(my_std(d_cu), 3))\n",
    "# print(round(my_std(d_al), 3))\n",
    "# print(round(my_std(d_fe), 3))\n",
    "# print('плотность')\n",
    "# for i in range(3):\n",
    "#     g = (mass[i] / (length[i] * (d[i] / 2) ** 2 * math.pi)) * (10 **6)\n",
    "#     print(round(g, 2))\n",
    "\n",
    "# print('погрешность для плотности')\n",
    "# for i in range(3):\n",
    "#     print(my_deviation_for_formuls([0.001, mass[i], 1, 0.1, length[i], 1, 0.01, d[i], 2]))"
   ]
  },
  {
   "cell_type": "code",
   "execution_count": 50,
   "metadata": {
    "notebookRunGroups": {
     "groupValue": "1"
    }
   },
   "outputs": [
    {
     "name": "stderr",
     "output_type": "stream",
     "text": [
      "2:80: E501 line too long (94 > 79 characters)\n",
      "51:80: E501 line too long (139 > 79 characters)\n",
      "53:80: E501 line too long (115 > 79 characters)\n",
      "56:80: E501 line too long (88 > 79 characters)\n",
      "60:80: E501 line too long (81 > 79 characters)\n",
      "63:80: E501 line too long (86 > 79 characters)\n",
      "72:80: E501 line too long (116 > 79 characters)\n",
      "91:80: E501 line too long (101 > 79 characters)\n",
      "96:80: E501 line too long (89 > 79 characters)\n",
      "97:80: E501 line too long (83 > 79 characters)\n"
     ]
    }
   ],
   "source": [
    "class Value:  # My class of values\n",
    "    def __init__(self, list_of_values: list or float, deviation=None, dimension=None) -> None:\n",
    "        self.data = np.array(list_of_values)\n",
    "        if dimension is None:\n",
    "            self.deviation = 0\n",
    "        else:\n",
    "            self.deviation = deviation\n",
    "\n",
    "        if dimension is None:\n",
    "            self.degree = 0\n",
    "            self.dimension = None\n",
    "        else:\n",
    "            self.my_dimension(dimension)\n",
    "\n",
    "    def my_dimension(self, dimension: str):\n",
    "        dimension = ''.join(dimension.split())\n",
    "        # print(dimension)\n",
    "        if \"10\" in dimension:\n",
    "            degree = dimension[dimension.find(\"10\") + 4:]\n",
    "            self.degree = float(degree)\n",
    "            # часть где метры, секунды и так далее\n",
    "            string_part = dimension[0: dimension.find(\"10\") - 1]\n",
    "        else:\n",
    "            self.degree = 0\n",
    "            string_part = dimension\n",
    "        # Все идет в степени 10\n",
    "        self.dict_of_consels = {\"G\": 9,  # Гиго\n",
    "                           \"M\": 6,  # Мега\n",
    "                           \"k\": 3,  # Кило\n",
    "                           \"m\": -3,  # Мили\n",
    "                           \"mk\": -6,  # Микро\n",
    "                           \"n\": -9,  # Нано\n",
    "                           \"p\": -12  # Пико\n",
    "                           }\n",
    "\n",
    "        self.dict_of_dimensions = {\"g\": \"g\",  # Граммы\n",
    "                              \"m\": \"m\",  # Метры\n",
    "                              \"s\": \"s\",  # Секунды\n",
    "                              \"H\": \"kg*m/s**2\"  # Ньютоны\n",
    "                              }\n",
    "        self.dimension = {\"g\": 0,\n",
    "                          \"m\": 0,\n",
    "                          \"s\": 0\n",
    "                          }\n",
    "        \n",
    "        previous_elem = \"\"\n",
    "        (flag_of_dimension) = 0\n",
    "        degree_from_consels = 0\n",
    "        degree_of_dimension = 1\n",
    "        for elem in reversed(string_part):\n",
    "            data_func_for_1_if = self.fun_check_math_part(elem, previous_elem, flag_of_dimension, degree_from_consels, degree_of_dimension)\n",
    "            if data_func_for_1_if[0]:\n",
    "                previous_elem, flag_of_dimension, degree_from_consels, degree_of_dimension = data_func_for_1_if[1:]\n",
    "            else:\n",
    "                elem += previous_elem\n",
    "                if not (flag_of_dimension) and dict_of_dimensions.get(elem) is not None:\n",
    "                    previous_elem = \"\"\n",
    "                    (flag_of_dimension) = 1\n",
    "                    self.dimension[elem] += degree_of_dimension\n",
    "                elif flag_of_dimension and dict_of_consels.get(elem) is not None:\n",
    "                    previous_elem = \"\"\n",
    "                    (flag_of_dimension) = 0\n",
    "                    degree_from_consels += dict_of_consels[elem] * degree_of_dimension\n",
    "                    degree_of_dimension = 1\n",
    "                elif len(elem) >= 2:\n",
    "                    raise MyCustomValueError(\"my_dimension class Value\")\n",
    "                else:\n",
    "                    previous_elem = elem\n",
    "\n",
    "        self.degree += degree_from_consels\n",
    "\n",
    "    def fun_check_math_part(self, elem, previous_elem, flag_of_dimension, degree_from_consels, degree_of_dimension):\n",
    "        flag_of_conclusion = False\n",
    "        if elem.isdigit() or elem in [\"*\", \"/\"]:\n",
    "            if elem in [\"*\", \"/\"]:\n",
    "                previous_elem = \"\"\n",
    "                flag_of_dimension = 0\n",
    "                if elem == \"*\":\n",
    "                    flag_of_conclusion = True\n",
    "                else:\n",
    "                    degree_from_consels *= -1\n",
    "                    for key in self.dimension.keys():\n",
    "                        self.dimension[key] *= -1\n",
    "                    flag_of_conclusion = True\n",
    "            else:\n",
    "                if previous_elem != \"\":\n",
    "                    raise MyCustomValueError(\"my_dimension class Value\")\n",
    "                degree_of_dimension = float(elem)\n",
    "                flag_of_conclusion = True\n",
    "        if flag_of_conclusion:\n",
    "            return (True, previous_elem, flag_of_dimension, degree_from_consels, degree_of_dimension)\n",
    "        else:\n",
    "            return (False, None)\n",
    "\n",
    "    def __str__(self):\n",
    "        return f\"List of values{self.data},deviation of varriable {self.deviation}, \" + \\\n",
    "            f\"degree of varriable {self.degree}, i don't remember {self.dimension}\"\n",
    "\n",
    "    def __del__(self):\n",
    "        pass"
   ]
  },
  {
   "cell_type": "code",
   "execution_count": 51,
   "metadata": {},
   "outputs": [
    {
     "name": "stdout",
     "output_type": "stream",
     "text": [
      "List of values[7 8 9],deviation of varriable 0.1, degree of varriable 1.0, i don't remember {'g': 1, 'm': -1, 's': 0}\n"
     ]
    }
   ],
   "source": [
    "r = Value([7, 8, 9], deviation=0.1, dimension=\"kg/m*10 **-2\")\n",
    "print(r)"
   ]
  },
  {
   "cell_type": "code",
   "execution_count": 15,
   "metadata": {
    "notebookRunGroups": {
     "groupValue": "1"
    }
   },
   "outputs": [
    {
     "name": "stderr",
     "output_type": "stream",
     "text": [
      "3:80: E501 line too long (95 > 79 characters)\n",
      "5:80: E501 line too long (95 > 79 characters)\n",
      "6:1: W293 blank line contains whitespace\n",
      "49:80: E501 line too long (98 > 79 characters)\n",
      "51:80: E501 line too long (143 > 79 characters)\n",
      "52:80: E501 line too long (114 > 79 characters)\n",
      "54:80: E501 line too long (131 > 79 characters)\n",
      "56:80: E501 line too long (99 > 79 characters)\n",
      "57:80: E501 line too long (110 > 79 characters)\n",
      "59:80: E501 line too long (165 > 79 characters)\n",
      "61:80: E501 line too long (96 > 79 characters)\n",
      "64:80: E501 line too long (105 > 79 characters)\n",
      "65:80: E501 line too long (123 > 79 characters)\n",
      "67:80: E501 line too long (116 > 79 characters)\n",
      "71:80: E501 line too long (114 > 79 characters)\n",
      "77:80: E501 line too long (86 > 79 characters)\n"
     ]
    }
   ],
   "source": [
    "# адекватный график который можно размножить\n",
    "class My_graphic:\n",
    "    def __init__(self, data_x=None, data_y=None, degree_of_polinom=1, data_for_errorbar_x=None,\n",
    "                 data_for_errorbar_y=None, name_x=None, name_y=None,\n",
    "                 name=None, start_x=None, start_y=None, cords_x=0, cords_y=0, deviation=False):\n",
    "        \n",
    "        assert not ((data_x is None) and (data_y is None)), 'Неправильный ввод'\n",
    "        if data_x is None:\n",
    "            self.data_x = np.linspace(1, len(data_y), len(data_y))\n",
    "        else:\n",
    "            self.data_x = np.array(data_x)\n",
    "        if data_y is None:\n",
    "            self.data_y = np.linspace(1, len(data_x), len(data_x))\n",
    "        else:\n",
    "            self.data_y = np.array(data_y)\n",
    "\n",
    "        self.degree_of_polinom = degree_of_polinom\n",
    "\n",
    "        if data_for_errorbar_x is None:\n",
    "            self.data_for_errorbar_x = 0\n",
    "        else:\n",
    "            self.data_for_errorbar_x = data_for_errorbar_x\n",
    "\n",
    "        if data_for_errorbar_y is None:\n",
    "            self.data_for_errorbar_y = 0\n",
    "        else:\n",
    "            self.data_for_errorbar_y = data_for_errorbar_y\n",
    "\n",
    "        self.name_y = name_y\n",
    "        self.name_x = name_x\n",
    "        self.name = name\n",
    "        self.deviation = deviation\n",
    "\n",
    "        if start_x is None:\n",
    "            self.start_x = np.min(self.data_x)\n",
    "        else:\n",
    "            self.start_x = start_x\n",
    "        if start_y is None:\n",
    "            self.start_y = np.min(self.data_y)\n",
    "        else:\n",
    "            self.start_y = start_y\n",
    "        self.cords = (cords_y, cords_x)\n",
    "\n",
    "    def writing(self, x_and_y=(1, 1)):\n",
    "\n",
    "        self.x_and_y = x_and_y  # размер грида для графиков\n",
    "        self.ax1 = plt.subplot2grid(self.x_and_y, self.cords, rowspan=2)\n",
    "\n",
    "        xh1 = np.linspace(self.start_x, max(self.data_x), 100)  # создание точек по x для полинома\n",
    "\n",
    "        approximation_1 = np.polyfit(self.data_x, self.data_y, self.degree_of_polinom)  # создание полинома n степени (функции т.е. y = f(x^n))\n",
    "        approximation_data_1 = np.poly1d(approximation_1)  # создание полинома n степени (функции т.е. y = f(x^n))\n",
    "\n",
    "        k, b, gk, gb = mnk(self.data_x, self.data_y, 1)  # подсчет коэффициэтов для прямой построенное методом наименьших квадратов\n",
    "\n",
    "        if isinstance(self.data_for_errorbar_x, int) and isinstance(self.data_for_errorbar_y, int):\n",
    "            self.ax1.scatter(self.data_x, self.data_y, marker='x', color='r', label=f'Данные для {self.name}')\n",
    "        else:\n",
    "            self.ax1.errorbar(self.data_x, self.data_y, self.data_for_errorbar_y, self.data_for_errorbar_x, color='k', linestyle='None', label=f\"Данные {self.name}\")\n",
    "\n",
    "        self.ax1.plot(xh1, approximation_data_1(xh1), 'c--', label=f\"Аппроксимация {self.name}\")\n",
    "\n",
    "        if self.deviation:\n",
    "            self.ax1.set_title(f'коэффициент при x {round(k, 3)}, свободный член {round(b, 2)},' + '\\n' +\n",
    "                               f'погр. для коэф. {round(gk, 4)}, погр. для своб. члена {round(gb, 4)}')  # название графика\n",
    "        else:\n",
    "            self.ax1.set_title(f'коэффициент при x {round(k, 3)}, свободный член {round(b, 2)}')  # название графика\n",
    "\n",
    "        self.ax1.set_xlabel(self.name_x)  # наименование оси X\n",
    "        self.ax1.set_ylabel(self.name_y)  # наименование оси Y\n",
    "        self.ax1.grid(True, color=\"grey\", linewidth=\"1.4\", linestyle=\"-.\")  # Настройка решетки для мажорных тиков\n",
    "        # making the top and right spine invisible:\n",
    "        self.ax1.spines['top'].set_color('none')\n",
    "        self.ax1.spines['right'].set_color('none')\n",
    "        # moving bottom spine up to y=0 position:\n",
    "        self.ax1.xaxis.set_ticks_position('bottom')\n",
    "        self.ax1.spines['bottom'].set_position(('data', approximation_data_1(xh1[0])))\n",
    "        # self.ax1.spines['bottom']\n",
    "        # moving left spine to the right to position x == 0:\n",
    "        self.ax1.yaxis.set_ticks_position('left')\n",
    "        self.ax1.spines['left'].set_position(('data', self.start_x))\n",
    "        self.ax1.legend()\n",
    "\n",
    "    def show(self):\n",
    "        plt.show()\n",
    "        plt.savefig('mygraph.pdf', dpi=1200)"
   ]
  },
  {
   "cell_type": "code",
   "execution_count": 24,
   "metadata": {},
   "outputs": [
    {
     "data": {
      "image/png": "[encoded data removed]",
      "text/plain": [
       "<Figure size 1000x1000 with 1 Axes>"
      ]
     },
     "metadata": {},
     "output_type": "display_data"
    },
    {
     "data": {
      "text/plain": [
       "<Figure size 640x480 with 0 Axes>"
      ]
     },
     "metadata": {},
     "output_type": "display_data"
    },
    {
     "name": "stderr",
     "output_type": "stream",
     "text": [
      "4:80: E501 line too long (102 > 79 characters)\n",
      "5:13: E128 continuation line under-indented for visual indent\n"
     ]
    }
   ],
   "source": [
    "plt.figure(figsize=(10, 10))\n",
    "\n",
    "\n",
    "a = My_graphic(data_y=data_y, data_x=data_x, start_x=0, start_y=0, name='омега', cords_x=0, cords_y=0,\n",
    "            deviation=True)\n",
    "\n",
    "\n",
    "plt.suptitle(f'График', fontsize=14, fontweight='bold')\n",
    "\n",
    "a.writing()\n",
    "a.show()"
   ]
  }
 ],
 "metadata": {
  "kernelspec": {
   "display_name": "Python 3",
   "language": "python",
   "name": "python3"
  },
  "language_info": {
   "codemirror_mode": {
    "name": "ipython",
    "version": 3
   },
   "file_extension": ".py",
   "mimetype": "text/x-python",
   "name": "python",
   "nbconvert_exporter": "python",
   "pygments_lexer": "ipython3",
   "version": "3.11.5"
  }
 },
 "nbformat": 4,
 "nbformat_minor": 2
}
