{
 "cells": [
  {
   "cell_type": "code",
   "execution_count": 2,
   "metadata": {},
   "outputs": [],
   "source": [
    "import numpy as np"
   ]
  },
  {
   "cell_type": "code",
   "execution_count": 5,
   "metadata": {},
   "outputs": [
    {
     "name": "stdout",
     "output_type": "stream",
     "text": [
      "Obese (Class III)\n"
     ]
    }
   ],
   "source": [
    "dict = {16.0: \"Underweight\",\n",
    "16.9: \"Moderate thinness\",\n",
    "18.4: \"Underweight (Mild thinness)\",\n",
    "24.9: \"Normal range\",\n",
    "29.9: \"Overweight (Pre-obese)\",\n",
    "34.9: \"Obese (Class I)\",\n",
    "39.9: \"Obese (Class II)\",\n",
    "1000.0: \"Obese (Class III)\"}\n",
    "\n",
    "value = 100\n",
    "\n",
    "for i in dict:\n",
    "    if i > value:\n",
    "        break\n",
    "print(dict[i])"
   ]
  },
  {
   "cell_type": "code",
   "execution_count": 8,
   "metadata": {},
   "outputs": [
    {
     "name": "stdout",
     "output_type": "stream",
     "text": [
      "ff\n"
     ]
    }
   ],
   "source": [
    "print(hex(255)[2::])"
   ]
  }
 ],
 "metadata": {
  "kernelspec": {
   "display_name": "Python 3",
   "language": "python",
   "name": "python3"
  },
  "language_info": {
   "codemirror_mode": {
    "name": "ipython",
    "version": 3
   },
   "file_extension": ".py",
   "mimetype": "text/x-python",
   "name": "python",
   "nbconvert_exporter": "python",
   "pygments_lexer": "ipython3",
   "version": "3.11.5"
  }
 },
 "nbformat": 4,
 "nbformat_minor": 2
}
